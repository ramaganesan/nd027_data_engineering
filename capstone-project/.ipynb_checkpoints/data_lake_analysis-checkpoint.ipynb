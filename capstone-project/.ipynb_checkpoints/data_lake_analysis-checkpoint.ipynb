{
 "cells": [
  {
   "cell_type": "code",
   "execution_count": null,
   "metadata": {},
   "outputs": [],
   "source": []
  },
  {
   "cell_type": "markdown",
   "metadata": {},
   "source": [
    "Analysis\n"
   ]
  },
  {
   "cell_type": "code",
   "execution_count": 2,
   "metadata": {
    "pycharm": {
     "name": "#%%\n"
    }
   },
   "outputs": [],
   "source": [
    "from pyspark.sql import SparkSession\n",
    "output_data = 'data/output'\n",
    "spark = SparkSession \\\n",
    "        .builder \\\n",
    "        .appName(\"ND027_Capstone_Project_query\") \\\n",
    "        .getOrCreate()\n"
   ]
  },
  {
   "cell_type": "markdown",
   "metadata": {},
   "source": [
    "Create Views\n"
   ]
  },
  {
   "cell_type": "code",
   "execution_count": 3,
   "metadata": {
    "pycharm": {
     "name": "#%%\n"
    }
   },
   "outputs": [
    {
     "name": "stderr",
     "output_type": "stream",
     "text": [
      "\r",
      "[Stage 0:>                                                          (0 + 1) / 1]\r",
      "\r",
      "                                                                                \r"
     ]
    }
   ],
   "source": [
    "immigration_fact_tbl = spark.read.parquet(f'{output_data}/immigration_fact')\n",
    "users_dimensions_tbl = spark.read.parquet(f'{output_data}/users_dimension')\n",
    "countries_dimension_tbl = spark.read.parquet(f'{output_data}/countries_dimension')\n",
    "cities_demographics_dimension_tbl = spark.read.parquet(f'{output_data}/cities_demographics_dimension')\n",
    "\n",
    "immigration_fact_view = immigration_fact_tbl.createOrReplaceTempView('immigration_fact_view')\n",
    "users_dimensions_view = users_dimensions_tbl.createOrReplaceTempView('users_dimensions_view')\n",
    "countries_dimension_view = countries_dimension_tbl.createOrReplaceTempView('countries_dimension_view')\n",
    "cities_demographics_dimension_view = cities_demographics_dimension_tbl.createOrReplaceTempView('cities_demographics_dimension_view')"
   ]
  },
  {
   "cell_type": "markdown",
   "metadata": {},
   "source": [
    "Analyze the data"
   ]
  },
  {
   "cell_type": "code",
   "execution_count": 5,
   "metadata": {
    "pycharm": {
     "name": "#%%\n"
    }
   },
   "outputs": [
    {
     "name": "stdout",
     "output_type": "stream",
     "text": [
      "+--------+\n",
      "|count(1)|\n",
      "+--------+\n",
      "|  219268|\n",
      "+--------+\n",
      "\n"
     ]
    }
   ],
   "source": [
    "spark.sql(\"\"\"\n",
    "    SELECT count(*) FROM immigration_fact_view\n",
    "\"\"\").show()"
   ]
  },
  {
   "cell_type": "code",
   "execution_count": 6,
   "metadata": {},
   "outputs": [
    {
     "name": "stdout",
     "output_type": "stream",
     "text": [
      "+------------+--------------------+\n",
      "|country_code|                name|\n",
      "+------------+--------------------+\n",
      "|         527|TURKS AND CAICOS ...|\n",
      "|         420|              TUVALU|\n",
      "|         352|              UGANDA|\n",
      "|         162|             UKRAINE|\n",
      "|         296|UNITED ARAB EMIRATES|\n",
      "|         135|      UNITED KINGDOM|\n",
      "|         695|             URUGUAY|\n",
      "|         163|          UZBEKISTAN|\n",
      "|         410|             VANUATU|\n",
      "|         696|           VENEZUELA|\n",
      "+------------+--------------------+\n",
      "only showing top 10 rows\n",
      "\n"
     ]
    }
   ],
   "source": [
    "spark.sql(\"\"\"\n",
    "    SELECT * FROM countries_dimension_view\n",
    "\"\"\").show(10)"
   ]
  },
  {
   "cell_type": "code",
   "execution_count": 15,
   "metadata": {},
   "outputs": [
    {
     "name": "stdout",
     "output_type": "stream",
     "text": [
      "+------+----------------+------------+--------------------+\n",
      "|i94cit|count_immigrants|country_code|                name|\n",
      "+------+----------------+------------+--------------------+\n",
      "| 135.0|           33237|         135|      UNITED KINGDOM|\n",
      "| 111.0|           20288|         111|              FRANCE|\n",
      "| 209.0|           12476|         209|               JAPAN|\n",
      "| 245.0|           11095|         245|          CHINA, PRC|\n",
      "| 582.0|            9846|         582|MEXICO Air Sea, a...|\n",
      "| 689.0|            8109|         689|              BRAZIL|\n",
      "| 117.0|            7867|         117|               ITALY|\n",
      "| 438.0|            7002|         438|           AUSTRALIA|\n",
      "| 129.0|            5363|         129|               SPAIN|\n",
      "| 213.0|            5161|         213|               INDIA|\n",
      "| 687.0|            4802|         687|          ARGENTINA |\n",
      "| 123.0|            4387|         123|         NETHERLANDS|\n",
      "| 130.0|            4055|         130|              SWEDEN|\n",
      "| 691.0|            3774|         691|            COLOMBIA|\n",
      "| 131.0|            3666|         131|         SWITZERLAND|\n",
      "| 692.0|            3040|         692|             ECUADOR|\n",
      "| 104.0|            3028|         104|             BELGIUM|\n",
      "| 268.0|            2889|         268|              TAIWAN|\n",
      "| 696.0|            2747|         696|           VENEZUELA|\n",
      "| 116.0|            2706|         116|             IRELAND|\n",
      "+------+----------------+------------+--------------------+\n",
      "only showing top 20 rows\n",
      "\n"
     ]
    }
   ],
   "source": [
    "spark.sql(\"\"\"\n",
    "    SELECT *\n",
    "    FROM\n",
    "        (SELECT DISTINCT\n",
    "            iv.i94cit, \n",
    "            COUNT(iv.cicid) AS count_immigrants\n",
    "        FROM immigration_fact_view iv\n",
    "        GROUP BY iv.i94cit\n",
    "        ) AS immigrants_by_country\n",
    "    JOIN countries_dimension_view cv\n",
    "        ON immigrants_by_country.i94cit = cv.country_code\n",
    "    ORDER BY immigrants_by_country.count_immigrants DESC\n",
    "\"\"\").show()"
   ]
  },
  {
   "cell_type": "code",
   "execution_count": 14,
   "metadata": {},
   "outputs": [
    {
     "name": "stdout",
     "output_type": "stream",
     "text": [
      "+-------+----------------+---------------+----------+----------------+------------+\n",
      "|i94port|count_immigrants|           City|state_code|total_population|foreign_born|\n",
      "+-------+----------------+---------------+----------+----------------+------------+\n",
      "|    NYC|           32779|       New York|        NY|        42752025|    16062500|\n",
      "|    MIA|           22660|          Miami|        FL|         2204945|     1303945|\n",
      "|    LOS|           20983|    Los Angeles|        CA|        19859480|     7427125|\n",
      "|    ORL|           12332|        Orlando|        FL|         1354585|      252790|\n",
      "|    CHI|           11823|        Chicago|        IL|        13602780|     2867315|\n",
      "|    SFR|           11056|  San Francisco|        CA|         4324080|     1485995|\n",
      "|    FTL|            8087|Fort Lauderdale|        FL|          892935|      237910|\n",
      "|    HOU|            7305|        Houston|        TX|        11493140|     3481050|\n",
      "|    LVG|            7216|      Las Vegas|        NV|         3118845|      638045|\n",
      "|    ATL|            6074|        Atlanta|        GA|         2319375|      160080|\n",
      "|    DAL|            5449|         Dallas|        TX|         6500410|     1634125|\n",
      "|    BOS|            4652|         Boston|        MA|         3347345|      950615|\n",
      "|    PHO|            4273|        Phoenix|        AZ|         7815005|     1503510|\n",
      "|    SEA|            3701|        Seattle|        WA|         3422215|      599200|\n",
      "|    TAM|            2456|          Tampa|        FL|         1845140|      293975|\n",
      "|    FMY|            2365|     Fort Myers|        FL|          296060|       61460|\n",
      "|    DET|            2168|        Detroit|        MI|         3385620|      199305|\n",
      "|    PHI|            2105|   Philadelphia|        PA|         7837210|     1026695|\n",
      "|    DEN|            1972|         Denver|        CO|         3412725|      566110|\n",
      "|    CLT|            1199|      Charlotte|        NC|         4135605|      644485|\n",
      "+-------+----------------+---------------+----------+----------------+------------+\n",
      "only showing top 20 rows\n",
      "\n"
     ]
    }
   ],
   "source": [
    "spark.sql(\"\"\"\n",
    "    SELECT i94port, count_immigrants, City, state_code, total_population, foreign_born\n",
    "    FROM\n",
    "        (SELECT DISTINCT\n",
    "            iv.i94port, \n",
    "            COUNT(iv.cicid) AS count_immigrants\n",
    "        FROM immigration_fact_view iv\n",
    "        GROUP BY iv.i94port\n",
    "        ) AS immigrants_by_city\n",
    "    JOIN cities_demographics_dimension_view cv\n",
    "        ON immigrants_by_city.i94port = cv.city_code\n",
    "    ORDER BY count_immigrants DESC\n",
    "\"\"\").show()"
   ]
  },
  {
   "cell_type": "code",
   "execution_count": null,
   "metadata": {},
   "outputs": [],
   "source": []
  }
 ],
 "metadata": {
  "kernelspec": {
   "display_name": "Python 3 (ipykernel)",
   "language": "python",
   "name": "python3"
  },
  "language_info": {
   "codemirror_mode": {
    "name": "ipython",
    "version": 3
   },
   "file_extension": ".py",
   "mimetype": "text/x-python",
   "name": "python",
   "nbconvert_exporter": "python",
   "pygments_lexer": "ipython3",
   "version": "3.8.2"
  }
 },
 "nbformat": 4,
 "nbformat_minor": 1
}
