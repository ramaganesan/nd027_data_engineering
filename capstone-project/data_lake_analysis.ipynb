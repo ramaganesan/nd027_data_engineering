{
 "cells": [
  {
   "cell_type": "code",
   "execution_count": null,
   "metadata": {},
   "outputs": [],
   "source": []
  },
  {
   "cell_type": "markdown",
   "metadata": {},
   "source": [
    "Analysis\n"
   ]
  },
  {
   "cell_type": "code",
   "execution_count": 1,
   "metadata": {
    "pycharm": {
     "name": "#%%\n"
    }
   },
   "outputs": [
    {
     "name": "stderr",
     "output_type": "stream",
     "text": [
      "23/04/29 11:22:12 WARN Utils: Your hostname, DESKTOP-76EIVRC resolves to a loopback address: 127.0.1.1; using 172.26.128.74 instead (on interface eth0)\n",
      "23/04/29 11:22:12 WARN Utils: Set SPARK_LOCAL_IP if you need to bind to another address\n",
      "Setting default log level to \"WARN\".\n",
      "To adjust logging level use sc.setLogLevel(newLevel). For SparkR, use setLogLevel(newLevel).\n",
      "23/04/29 11:22:14 WARN NativeCodeLoader: Unable to load native-hadoop library for your platform... using builtin-java classes where applicable\n"
     ]
    }
   ],
   "source": [
    "from pyspark.sql import SparkSession\n",
    "output_data = 'data/output'\n",
    "spark = SparkSession \\\n",
    "        .builder \\\n",
    "        .appName(\"ND027_Capstone_Project_query\") \\\n",
    "        .getOrCreate()\n"
   ]
  },
  {
   "cell_type": "markdown",
   "metadata": {},
   "source": [
    "Create Views\n"
   ]
  },
  {
   "cell_type": "code",
   "execution_count": 2,
   "metadata": {
    "pycharm": {
     "name": "#%%\n"
    }
   },
   "outputs": [
    {
     "name": "stderr",
     "output_type": "stream",
     "text": [
      "                                                                                \r"
     ]
    }
   ],
   "source": [
    "immigration_fact_tbl = spark.read.parquet(f'{output_data}/immigration_fact')\n",
    "users_dimensions_tbl = spark.read.parquet(f'{output_data}/users_dimension')\n",
    "countries_dimension_tbl = spark.read.parquet(f'{output_data}/countries_dimension')\n",
    "cities_demographics_dimension_tbl = spark.read.parquet(f'{output_data}/cities_demographics_dimension')\n",
    "\n",
    "immigration_fact_view = immigration_fact_tbl.createOrReplaceTempView('immigration_fact_view')\n",
    "users_dimensions_view = users_dimensions_tbl.createOrReplaceTempView('users_dimensions_view')\n",
    "countries_dimension_view = countries_dimension_tbl.createOrReplaceTempView('countries_dimension_view')\n",
    "cities_demographics_dimension_view = cities_demographics_dimension_tbl.createOrReplaceTempView('cities_demographics_dimension_view')"
   ]
  },
  {
   "cell_type": "markdown",
   "metadata": {},
   "source": [
    "Analyze the data"
   ]
  },
  {
   "cell_type": "code",
   "execution_count": 20,
   "metadata": {
    "pycharm": {
     "name": "#%%\n"
    }
   },
   "outputs": [
    {
     "name": "stdout",
     "output_type": "stream",
     "text": [
      "+--------+\n",
      "|count(1)|\n",
      "+--------+\n",
      "|       0|\n",
      "+--------+\n",
      "\n"
     ]
    }
   ],
   "source": [
    "spark.sql(\"\"\"\n",
    "    SELECT count(*) FROM immigration_fact_view where cicid is null\n",
    "\"\"\").show()"
   ]
  },
  {
   "cell_type": "code",
   "execution_count": 12,
   "metadata": {},
   "outputs": [
    {
     "name": "stdout",
     "output_type": "stream",
     "text": [
      "+------------+--------------------+\n",
      "|country_code|                name|\n",
      "+------------+--------------------+\n",
      "|         527|TURKS AND CAICOS ...|\n",
      "|         420|              TUVALU|\n",
      "|         352|              UGANDA|\n",
      "|         162|             UKRAINE|\n",
      "|         296|UNITED ARAB EMIRATES|\n",
      "|         135|      UNITED KINGDOM|\n",
      "|         695|             URUGUAY|\n",
      "|         163|          UZBEKISTAN|\n",
      "|         410|             VANUATU|\n",
      "|         696|           VENEZUELA|\n",
      "|         266|             VIETNAM|\n",
      "|         469|WALLIS AND FUTUNA...|\n",
      "|         757|WEST INDIES (FRENCH)|\n",
      "|         333|      WESTERN SAHARA|\n",
      "|         465|       WESTERN SAMOA|\n",
      "|         216|               YEMEN|\n",
      "|         139|          YUGOSLAVIA|\n",
      "|         301|               ZAIRE|\n",
      "|         344|              ZAMBIA|\n",
      "|         315|            ZIMBABWE|\n",
      "|         403|INVALID: AMERICAN...|\n",
      "|         712| INVALID: ANTARCTICA|\n",
      "|         700|INVALID: BORN ON ...|\n",
      "|         719|INVALID: BOUVET I...|\n",
      "|         574|     INVALID: CANADA|\n",
      "|         720|INVALID: CANTON A...|\n",
      "|         106|INVALID: CZECHOSL...|\n",
      "|         739|INVALID: DRONNING...|\n",
      "|         394|INVALID: FRENCH S...|\n",
      "|         501|  INVALID: GREENLAND|\n",
      "|         404|       INVALID: GUAM|\n",
      "|         730|INVALID: INTERNAT...|\n",
      "|         731|INVALID: JOHNSON ...|\n",
      "|         471|INVALID: MARIANA ...|\n",
      "|         737|INVALID: MIDWAY I...|\n",
      "|         753|INVALID: MINOR OU...|\n",
      "|         582|MEXICO Air Sea, a...|\n",
      "|         236|         AFGHANISTAN|\n",
      "|         101|             ALBANIA|\n",
      "|         316|             ALGERIA|\n",
      "|         102|             ANDORRA|\n",
      "|         324|              ANGOLA|\n",
      "|         529|            ANGUILLA|\n",
      "|         518|     ANTIGUA-BARBUDA|\n",
      "|         687|          ARGENTINA |\n",
      "|         151|             ARMENIA|\n",
      "|         532|               ARUBA|\n",
      "|         438|           AUSTRALIA|\n",
      "|         103|             AUSTRIA|\n",
      "|         152|          AZERBAIJAN|\n",
      "|         512|             BAHAMAS|\n",
      "|         298|             BAHRAIN|\n",
      "|         274|          BANGLADESH|\n",
      "|         513|            BARBADOS|\n",
      "|         104|             BELGIUM|\n",
      "|         581|              BELIZE|\n",
      "|         386|               BENIN|\n",
      "|         509|             BERMUDA|\n",
      "|         153|             BELARUS|\n",
      "|         242|              BHUTAN|\n",
      "|         688|             BOLIVIA|\n",
      "|         717|BONAIRE, ST EUSTA...|\n",
      "|         164|  BOSNIA-HERZEGOVINA|\n",
      "|         336|            BOTSWANA|\n",
      "|         689|              BRAZIL|\n",
      "|         525|BRITISH VIRGIN IS...|\n",
      "|         217|              BRUNEI|\n",
      "|         105|            BULGARIA|\n",
      "|         393|        BURKINA FASO|\n",
      "|         243|               BURMA|\n",
      "|         375|             BURUNDI|\n",
      "|         310|            CAMEROON|\n",
      "|         740|INVALID: NEUTRAL ...|\n",
      "|         710|INVALID: NON-QUOT...|\n",
      "|         505|INVALID: PUERTO RICO|\n",
      "|           0|  INVALID: STATELESS|\n",
      "|         705|  INVALID: STATELESS|\n",
      "|         583|INVALID: UNITED S...|\n",
      "|         407|INVALID: UNITED S...|\n",
      "|         999|    INVALID: UNKNOWN|\n",
      "|         239|INVALID: UNKNOWN ...|\n",
      "|         134|       INVALID: USSR|\n",
      "|         506|INVALID: U.S. VIR...|\n",
      "|         755|INVALID: WAKE ISLAND|\n",
      "|         311|Collapsed Tanzani...|\n",
      "|         741|Collapsed Curacao...|\n",
      "|          54|No Country Code (54)|\n",
      "|         100|No Country Code (...|\n",
      "|         187|No Country Code (...|\n",
      "|         190|No Country Code (...|\n",
      "|         200|No Country Code (...|\n",
      "|         219|No Country Code (...|\n",
      "|         238|No Country Code (...|\n",
      "|         277|No Country Code (...|\n",
      "|         293|No Country Code (...|\n",
      "|         300|No Country Code (...|\n",
      "|         319|No Country Code (...|\n",
      "|         365|No Country Code (...|\n",
      "|         395|No Country Code (...|\n",
      "|         400|No Country Code (...|\n",
      "+------------+--------------------+\n",
      "only showing top 100 rows\n",
      "\n"
     ]
    }
   ],
   "source": [
    "spark.sql(\"\"\"\n",
    "    SELECT * FROM countries_dimension_view\n",
    "\"\"\").show(100)"
   ]
  },
  {
   "cell_type": "code",
   "execution_count": 4,
   "metadata": {},
   "outputs": [
    {
     "name": "stderr",
     "output_type": "stream",
     "text": [
      "[Stage 5:>                                                          (0 + 1) / 1]\r"
     ]
    },
    {
     "name": "stdout",
     "output_type": "stream",
     "text": [
      "+------+----------------+------------+--------------------+\n",
      "|i94cit|count_immigrants|country_code|                name|\n",
      "+------+----------------+------------+--------------------+\n",
      "| 135.0|           33237|         527|TURKS AND CAICOS ...|\n",
      "| 135.0|           33237|         712| INVALID: ANTARCTICA|\n",
      "| 135.0|           33237|         420|              TUVALU|\n",
      "| 135.0|           33237|         352|              UGANDA|\n",
      "| 135.0|           33237|         162|             UKRAINE|\n",
      "| 135.0|           33237|         296|UNITED ARAB EMIRATES|\n",
      "| 135.0|           33237|         695|             URUGUAY|\n",
      "| 135.0|           33237|         163|          UZBEKISTAN|\n",
      "| 135.0|           33237|         410|             VANUATU|\n",
      "| 135.0|           33237|         696|           VENEZUELA|\n",
      "| 135.0|           33237|         266|             VIETNAM|\n",
      "| 135.0|           33237|         469|WALLIS AND FUTUNA...|\n",
      "| 135.0|           33237|         757|WEST INDIES (FRENCH)|\n",
      "| 135.0|           33237|         333|      WESTERN SAHARA|\n",
      "| 135.0|           33237|         465|       WESTERN SAMOA|\n",
      "| 135.0|           33237|         216|               YEMEN|\n",
      "| 135.0|           33237|         139|          YUGOSLAVIA|\n",
      "| 135.0|           33237|         301|               ZAIRE|\n",
      "| 135.0|           33237|         344|              ZAMBIA|\n",
      "| 135.0|           33237|         315|            ZIMBABWE|\n",
      "+------+----------------+------------+--------------------+\n",
      "only showing top 20 rows\n",
      "\n"
     ]
    },
    {
     "name": "stderr",
     "output_type": "stream",
     "text": [
      "\r",
      "                                                                                \r"
     ]
    }
   ],
   "source": [
    "spark.sql(\"\"\"\n",
    "    SELECT *\n",
    "    FROM\n",
    "        (SELECT DISTINCT\n",
    "            iv.i94cit, \n",
    "            COUNT(iv.cicid) AS count_immigrants\n",
    "        FROM immigration_fact_view iv\n",
    "        GROUP BY iv.i94cit\n",
    "        ) AS immigrants_by_country\n",
    "    JOIN countries_dimension_view cv\n",
    "        ON immigrants_by_country.i94cit != cv.country_code\n",
    "    ORDER BY immigrants_by_country.count_immigrants DESC\n",
    "\"\"\").show()"
   ]
  },
  {
   "cell_type": "code",
   "execution_count": 14,
   "metadata": {},
   "outputs": [
    {
     "name": "stdout",
     "output_type": "stream",
     "text": [
      "+-------+----------------+---------------+----------+----------------+------------+\n",
      "|i94port|count_immigrants|           City|state_code|total_population|foreign_born|\n",
      "+-------+----------------+---------------+----------+----------------+------------+\n",
      "|    NYC|           32779|       New York|        NY|        42752025|    16062500|\n",
      "|    MIA|           22660|          Miami|        FL|         2204945|     1303945|\n",
      "|    LOS|           20983|    Los Angeles|        CA|        19859480|     7427125|\n",
      "|    ORL|           12332|        Orlando|        FL|         1354585|      252790|\n",
      "|    CHI|           11823|        Chicago|        IL|        13602780|     2867315|\n",
      "|    SFR|           11056|  San Francisco|        CA|         4324080|     1485995|\n",
      "|    FTL|            8087|Fort Lauderdale|        FL|          892935|      237910|\n",
      "|    HOU|            7305|        Houston|        TX|        11493140|     3481050|\n",
      "|    LVG|            7216|      Las Vegas|        NV|         3118845|      638045|\n",
      "|    ATL|            6074|        Atlanta|        GA|         2319375|      160080|\n",
      "|    DAL|            5449|         Dallas|        TX|         6500410|     1634125|\n",
      "|    BOS|            4652|         Boston|        MA|         3347345|      950615|\n",
      "|    PHO|            4273|        Phoenix|        AZ|         7815005|     1503510|\n",
      "|    SEA|            3701|        Seattle|        WA|         3422215|      599200|\n",
      "|    TAM|            2456|          Tampa|        FL|         1845140|      293975|\n",
      "|    FMY|            2365|     Fort Myers|        FL|          296060|       61460|\n",
      "|    DET|            2168|        Detroit|        MI|         3385620|      199305|\n",
      "|    PHI|            2105|   Philadelphia|        PA|         7837210|     1026695|\n",
      "|    DEN|            1972|         Denver|        CO|         3412725|      566110|\n",
      "|    CLT|            1199|      Charlotte|        NC|         4135605|      644485|\n",
      "+-------+----------------+---------------+----------+----------------+------------+\n",
      "only showing top 20 rows\n",
      "\n"
     ]
    }
   ],
   "source": [
    "spark.sql(\"\"\"\n",
    "    SELECT i94port, count_immigrants, City, state_code, total_population, foreign_born\n",
    "    FROM\n",
    "        (SELECT DISTINCT\n",
    "            iv.i94port, \n",
    "            COUNT(iv.cicid) AS count_immigrants\n",
    "        FROM immigration_fact_view iv\n",
    "        GROUP BY iv.i94port\n",
    "        ) AS immigrants_by_city\n",
    "    JOIN cities_demographics_dimension_view cv\n",
    "        ON immigrants_by_city.i94port = cv.city_code\n",
    "    ORDER BY count_immigrants DESC\n",
    "\"\"\").show()"
   ]
  },
  {
   "cell_type": "code",
   "execution_count": 13,
   "metadata": {},
   "outputs": [
    {
     "ename": "AnalysisException",
     "evalue": "[UNRESOLVED_COLUMN.WITH_SUGGESTION] A column or function parameter with name `iv` cannot be resolved. Did you mean one of the following? [`iv`.`cicid`, `iv`.`i94yr`, `cv`.`name`, `iv`.`i94cit`, `iv`.`i94mon`].; line 4 pos 7;\n'Project [iv.*]\n+- 'Join Inner, NOT ('iv = country_code#40)\n   :- SubqueryAlias iv\n   :  +- SubqueryAlias immigration_fact_view\n   :     +- View (`immigration_fact_view`, [cicid#0,i94cit#1,i94res#2,i94port#3,arrdate#4,i94mode#5,i94addr#6,depdate#7,i94visa#8,visatype#9,dtaddto#10,arrival_date_ts#11,departure_date_ts#12,i94yr#13,i94mon#14])\n   :        +- Relation [cicid#0,i94cit#1,i94res#2,i94port#3,arrdate#4,i94mode#5,i94addr#6,depdate#7,i94visa#8,visatype#9,dtaddto#10,arrival_date_ts#11,departure_date_ts#12,i94yr#13,i94mon#14] parquet\n   +- SubqueryAlias cv\n      +- SubqueryAlias countries_dimension_view\n         +- View (`countries_dimension_view`, [country_code#40,name#41])\n            +- Relation [country_code#40,name#41] parquet\n",
     "output_type": "error",
     "traceback": [
      "\u001B[0;31m---------------------------------------------------------------------------\u001B[0m",
      "\u001B[0;31mAnalysisException\u001B[0m                         Traceback (most recent call last)",
      "Cell \u001B[0;32mIn[13], line 1\u001B[0m\n\u001B[0;32m----> 1\u001B[0m \u001B[43mspark\u001B[49m\u001B[38;5;241;43m.\u001B[39;49m\u001B[43msql\u001B[49m\u001B[43m(\u001B[49m\u001B[38;5;124;43m\"\"\"\u001B[39;49m\n\u001B[1;32m      2\u001B[0m \u001B[38;5;124;43m    SELECT iv.* FROM immigration_fact_view iv\u001B[39;49m\n\u001B[1;32m      3\u001B[0m \u001B[38;5;124;43m    JOIN countries_dimension_view cv\u001B[39;49m\n\u001B[1;32m      4\u001B[0m \u001B[38;5;124;43m    ON iv != cv.country_code\u001B[39;49m\n\u001B[1;32m      5\u001B[0m \u001B[38;5;124;43m\"\"\"\u001B[39;49m\u001B[43m)\u001B[49m\u001B[38;5;241m.\u001B[39mshow()\n",
      "File \u001B[0;32m~/.local/lib/python3.8/site-packages/pyspark/sql/session.py:1440\u001B[0m, in \u001B[0;36mSparkSession.sql\u001B[0;34m(self, sqlQuery, args, **kwargs)\u001B[0m\n\u001B[1;32m   1438\u001B[0m \u001B[38;5;28;01mtry\u001B[39;00m:\n\u001B[1;32m   1439\u001B[0m     litArgs \u001B[38;5;241m=\u001B[39m {k: _to_java_column(lit(v)) \u001B[38;5;28;01mfor\u001B[39;00m k, v \u001B[38;5;129;01min\u001B[39;00m (args \u001B[38;5;129;01mor\u001B[39;00m {})\u001B[38;5;241m.\u001B[39mitems()}\n\u001B[0;32m-> 1440\u001B[0m     \u001B[38;5;28;01mreturn\u001B[39;00m DataFrame(\u001B[38;5;28;43mself\u001B[39;49m\u001B[38;5;241;43m.\u001B[39;49m\u001B[43m_jsparkSession\u001B[49m\u001B[38;5;241;43m.\u001B[39;49m\u001B[43msql\u001B[49m\u001B[43m(\u001B[49m\u001B[43msqlQuery\u001B[49m\u001B[43m,\u001B[49m\u001B[43m \u001B[49m\u001B[43mlitArgs\u001B[49m\u001B[43m)\u001B[49m, \u001B[38;5;28mself\u001B[39m)\n\u001B[1;32m   1441\u001B[0m \u001B[38;5;28;01mfinally\u001B[39;00m:\n\u001B[1;32m   1442\u001B[0m     \u001B[38;5;28;01mif\u001B[39;00m \u001B[38;5;28mlen\u001B[39m(kwargs) \u001B[38;5;241m>\u001B[39m \u001B[38;5;241m0\u001B[39m:\n",
      "File \u001B[0;32m~/.local/lib/python3.8/site-packages/py4j/java_gateway.py:1322\u001B[0m, in \u001B[0;36mJavaMember.__call__\u001B[0;34m(self, *args)\u001B[0m\n\u001B[1;32m   1316\u001B[0m command \u001B[38;5;241m=\u001B[39m proto\u001B[38;5;241m.\u001B[39mCALL_COMMAND_NAME \u001B[38;5;241m+\u001B[39m\\\n\u001B[1;32m   1317\u001B[0m     \u001B[38;5;28mself\u001B[39m\u001B[38;5;241m.\u001B[39mcommand_header \u001B[38;5;241m+\u001B[39m\\\n\u001B[1;32m   1318\u001B[0m     args_command \u001B[38;5;241m+\u001B[39m\\\n\u001B[1;32m   1319\u001B[0m     proto\u001B[38;5;241m.\u001B[39mEND_COMMAND_PART\n\u001B[1;32m   1321\u001B[0m answer \u001B[38;5;241m=\u001B[39m \u001B[38;5;28mself\u001B[39m\u001B[38;5;241m.\u001B[39mgateway_client\u001B[38;5;241m.\u001B[39msend_command(command)\n\u001B[0;32m-> 1322\u001B[0m return_value \u001B[38;5;241m=\u001B[39m \u001B[43mget_return_value\u001B[49m\u001B[43m(\u001B[49m\n\u001B[1;32m   1323\u001B[0m \u001B[43m    \u001B[49m\u001B[43manswer\u001B[49m\u001B[43m,\u001B[49m\u001B[43m \u001B[49m\u001B[38;5;28;43mself\u001B[39;49m\u001B[38;5;241;43m.\u001B[39;49m\u001B[43mgateway_client\u001B[49m\u001B[43m,\u001B[49m\u001B[43m \u001B[49m\u001B[38;5;28;43mself\u001B[39;49m\u001B[38;5;241;43m.\u001B[39;49m\u001B[43mtarget_id\u001B[49m\u001B[43m,\u001B[49m\u001B[43m \u001B[49m\u001B[38;5;28;43mself\u001B[39;49m\u001B[38;5;241;43m.\u001B[39;49m\u001B[43mname\u001B[49m\u001B[43m)\u001B[49m\n\u001B[1;32m   1325\u001B[0m \u001B[38;5;28;01mfor\u001B[39;00m temp_arg \u001B[38;5;129;01min\u001B[39;00m temp_args:\n\u001B[1;32m   1326\u001B[0m     \u001B[38;5;28;01mif\u001B[39;00m \u001B[38;5;28mhasattr\u001B[39m(temp_arg, \u001B[38;5;124m\"\u001B[39m\u001B[38;5;124m_detach\u001B[39m\u001B[38;5;124m\"\u001B[39m):\n",
      "File \u001B[0;32m~/.local/lib/python3.8/site-packages/pyspark/errors/exceptions/captured.py:175\u001B[0m, in \u001B[0;36mcapture_sql_exception.<locals>.deco\u001B[0;34m(*a, **kw)\u001B[0m\n\u001B[1;32m    171\u001B[0m converted \u001B[38;5;241m=\u001B[39m convert_exception(e\u001B[38;5;241m.\u001B[39mjava_exception)\n\u001B[1;32m    172\u001B[0m \u001B[38;5;28;01mif\u001B[39;00m \u001B[38;5;129;01mnot\u001B[39;00m \u001B[38;5;28misinstance\u001B[39m(converted, UnknownException):\n\u001B[1;32m    173\u001B[0m     \u001B[38;5;66;03m# Hide where the exception came from that shows a non-Pythonic\u001B[39;00m\n\u001B[1;32m    174\u001B[0m     \u001B[38;5;66;03m# JVM exception message.\u001B[39;00m\n\u001B[0;32m--> 175\u001B[0m     \u001B[38;5;28;01mraise\u001B[39;00m converted \u001B[38;5;28;01mfrom\u001B[39;00m \u001B[38;5;28;01mNone\u001B[39;00m\n\u001B[1;32m    176\u001B[0m \u001B[38;5;28;01melse\u001B[39;00m:\n\u001B[1;32m    177\u001B[0m     \u001B[38;5;28;01mraise\u001B[39;00m\n",
      "\u001B[0;31mAnalysisException\u001B[0m: [UNRESOLVED_COLUMN.WITH_SUGGESTION] A column or function parameter with name `iv` cannot be resolved. Did you mean one of the following? [`iv`.`cicid`, `iv`.`i94yr`, `cv`.`name`, `iv`.`i94cit`, `iv`.`i94mon`].; line 4 pos 7;\n'Project [iv.*]\n+- 'Join Inner, NOT ('iv = country_code#40)\n   :- SubqueryAlias iv\n   :  +- SubqueryAlias immigration_fact_view\n   :     +- View (`immigration_fact_view`, [cicid#0,i94cit#1,i94res#2,i94port#3,arrdate#4,i94mode#5,i94addr#6,depdate#7,i94visa#8,visatype#9,dtaddto#10,arrival_date_ts#11,departure_date_ts#12,i94yr#13,i94mon#14])\n   :        +- Relation [cicid#0,i94cit#1,i94res#2,i94port#3,arrdate#4,i94mode#5,i94addr#6,depdate#7,i94visa#8,visatype#9,dtaddto#10,arrival_date_ts#11,departure_date_ts#12,i94yr#13,i94mon#14] parquet\n   +- SubqueryAlias cv\n      +- SubqueryAlias countries_dimension_view\n         +- View (`countries_dimension_view`, [country_code#40,name#41])\n            +- Relation [country_code#40,name#41] parquet\n"
     ]
    }
   ],
   "source": [
    "spark.sql(\"\"\"\n",
    "    SELECT iv.* FROM immigration_fact_view iv\n",
    "    JOIN countries_dimension_view cv\n",
    "    ON iv != cv.country_code\n",
    "\"\"\").show()"
   ]
  },
  {
   "cell_type": "code",
   "execution_count": null,
   "metadata": {},
   "outputs": [],
   "source": []
  }
 ],
 "metadata": {
  "kernelspec": {
   "display_name": "Python 3 (ipykernel)",
   "language": "python",
   "name": "python3"
  },
  "language_info": {
   "codemirror_mode": {
    "name": "ipython",
    "version": 3
   },
   "file_extension": ".py",
   "mimetype": "text/x-python",
   "name": "python",
   "nbconvert_exporter": "python",
   "pygments_lexer": "ipython3",
   "version": "3.8.2"
  }
 },
 "nbformat": 4,
 "nbformat_minor": 1
}